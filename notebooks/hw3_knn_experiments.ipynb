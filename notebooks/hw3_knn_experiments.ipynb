{
 "cells": [
  {
   "cell_type": "markdown",
   "id": "ad8e37ce",
   "metadata": {},
   "source": [
    "#  Домашнее задание 3\n",
    "\n"
   ]
  },
  {
   "cell_type": "code",
   "execution_count": 1,
   "id": "d591ad1b",
   "metadata": {},
   "outputs": [
    {
     "name": "stderr",
     "output_type": "stream",
     "text": [
      "/home/beartk/.local/lib/python3.10/site-packages/tqdm/auto.py:21: TqdmWarning: IProgress not found. Please update jupyter and ipywidgets. See https://ipywidgets.readthedocs.io/en/stable/user_install.html\n",
      "  from .autonotebook import tqdm as notebook_tqdm\n"
     ]
    }
   ],
   "source": [
    "import pandas as pd\n",
    "import numpy as np\n",
    "import requests\n",
    "from tqdm.auto import tqdm\n",
    "from scipy.stats import mode \n",
    "from pprint import pprint\n",
    "from implicit.nearest_neighbours import CosineRecommender, TFIDFRecommender, BM25Recommender\n",
    "import warnings\n",
    "\n",
    "from rectools import Columns\n",
    "from rectools.dataset import Dataset, Interactions\n",
    "from rectools.metrics import MAP, MeanInvUserFreq, calc_metrics\n",
    "from rectools.model_selection import TimeRangeSplitter\n",
    "\n",
    "from userknn import UserKnn\n",
    "\n",
    "warnings.filterwarnings(\"ignore\")\n",
    "pd.set_option('display.max_columns', None)\n",
    "pd.set_option('display.max_colwidth', 200)"
   ]
  },
  {
   "cell_type": "markdown",
   "id": "d1d7cc47",
   "metadata": {},
   "source": [
    "# Датасет KION "
   ]
  },
  {
   "cell_type": "code",
   "execution_count": 2,
   "metadata": {},
   "outputs": [],
   "source": [
    "# %%time\n",
    "# !wget -q https://github.com/irsafilo/KION_DATASET/raw/f69775be31fa5779907cf0a92ddedb70037fb5ae/data_original.zip -O ml-1m.zip\n",
    "# !unzip -o ml-1m.zip\n",
    "# !rm ml-1m.zip"
   ]
  },
  {
   "cell_type": "code",
   "execution_count": 3,
   "id": "1f349c11",
   "metadata": {},
   "outputs": [
    {
     "data": {
      "text/html": [
       "<div>\n",
       "<style scoped>\n",
       "    .dataframe tbody tr th:only-of-type {\n",
       "        vertical-align: middle;\n",
       "    }\n",
       "\n",
       "    .dataframe tbody tr th {\n",
       "        vertical-align: top;\n",
       "    }\n",
       "\n",
       "    .dataframe thead th {\n",
       "        text-align: right;\n",
       "    }\n",
       "</style>\n",
       "<table border=\"1\" class=\"dataframe\">\n",
       "  <thead>\n",
       "    <tr style=\"text-align: right;\">\n",
       "      <th></th>\n",
       "      <th>user_id</th>\n",
       "      <th>item_id</th>\n",
       "      <th>datetime</th>\n",
       "      <th>weight</th>\n",
       "      <th>watched_pct</th>\n",
       "    </tr>\n",
       "  </thead>\n",
       "  <tbody>\n",
       "    <tr>\n",
       "      <th>4042379</th>\n",
       "      <td>673874</td>\n",
       "      <td>10275</td>\n",
       "      <td>2021-06-18</td>\n",
       "      <td>1496.0</td>\n",
       "      <td>38.0</td>\n",
       "    </tr>\n",
       "    <tr>\n",
       "      <th>4873938</th>\n",
       "      <td>482711</td>\n",
       "      <td>16197</td>\n",
       "      <td>2021-07-31</td>\n",
       "      <td>2519.0</td>\n",
       "      <td>43.0</td>\n",
       "    </tr>\n",
       "    <tr>\n",
       "      <th>4655681</th>\n",
       "      <td>286562</td>\n",
       "      <td>15915</td>\n",
       "      <td>2021-05-13</td>\n",
       "      <td>11491.0</td>\n",
       "      <td>100.0</td>\n",
       "    </tr>\n",
       "    <tr>\n",
       "      <th>3852255</th>\n",
       "      <td>591189</td>\n",
       "      <td>8771</td>\n",
       "      <td>2021-07-21</td>\n",
       "      <td>29.0</td>\n",
       "      <td>0.0</td>\n",
       "    </tr>\n",
       "    <tr>\n",
       "      <th>4896893</th>\n",
       "      <td>654195</td>\n",
       "      <td>10440</td>\n",
       "      <td>2021-07-27</td>\n",
       "      <td>151.0</td>\n",
       "      <td>0.0</td>\n",
       "    </tr>\n",
       "  </tbody>\n",
       "</table>\n",
       "</div>"
      ],
      "text/plain": [
       "         user_id  item_id   datetime   weight  watched_pct\n",
       "4042379   673874    10275 2021-06-18   1496.0         38.0\n",
       "4873938   482711    16197 2021-07-31   2519.0         43.0\n",
       "4655681   286562    15915 2021-05-13  11491.0        100.0\n",
       "3852255   591189     8771 2021-07-21     29.0          0.0\n",
       "4896893   654195    10440 2021-07-27    151.0          0.0"
      ]
     },
     "execution_count": 3,
     "metadata": {},
     "output_type": "execute_result"
    }
   ],
   "source": [
    "interactions_df = pd.read_csv('../data_original/interactions.csv')\n",
    "users = pd.read_csv('../data_original/users.csv')\n",
    "items = pd.read_csv('../data_original/items.csv')\n",
    "\n",
    "interactions_df.rename(columns={'last_watch_dt': Columns.Datetime,\n",
    "                                'total_dur': Columns.Weight}, inplace=True) \n",
    "# will cast types and save new pd.DataFrame inside in Interactions.df\n",
    "interactions = Interactions(interactions_df)   \n",
    "\n",
    "# ! если хотите быстро прогнать этот ноутбук - раскомментируйте эту строку - она уменьшает данные\n",
    "interactions = Interactions(interactions_df.sample(frac=0.01))  \n",
    "\n",
    "interactions.df.head()"
   ]
  },
  {
   "cell_type": "markdown",
   "metadata": {},
   "source": [
    "# Создаем заготовку рекомендаций для холодных пользователей"
   ]
  },
  {
   "cell_type": "code",
   "execution_count": 4,
   "metadata": {},
   "outputs": [],
   "source": [
    "max_date = interactions.df['datetime'].max()\n",
    "\n",
    "train = interactions.df[(interactions.df['datetime'] < max_date - pd.Timedelta(days=7))]"
   ]
  },
  {
   "cell_type": "code",
   "execution_count": 5,
   "metadata": {},
   "outputs": [],
   "source": [
    "from rectools.dataset import Dataset\n",
    "\n",
    "dataset = Dataset.construct(\n",
    "    interactions_df=train,\n",
    "    user_features_df=None,\n",
    "    item_features_df=None\n",
    ")"
   ]
  },
  {
   "cell_type": "code",
   "execution_count": 6,
   "metadata": {},
   "outputs": [
    {
     "data": {
      "text/plain": [
       "<rectools.models.popular.PopularModel at 0x7f66c09b8df0>"
      ]
     },
     "execution_count": 6,
     "metadata": {},
     "output_type": "execute_result"
    }
   ],
   "source": [
    "from rectools.models.popular import PopularModel\n",
    "\n",
    "pop = PopularModel()\n",
    "pop.fit(dataset)"
   ]
  },
  {
   "cell_type": "code",
   "execution_count": 7,
   "metadata": {},
   "outputs": [
    {
     "data": {
      "text/html": [
       "<div>\n",
       "<style scoped>\n",
       "    .dataframe tbody tr th:only-of-type {\n",
       "        vertical-align: middle;\n",
       "    }\n",
       "\n",
       "    .dataframe tbody tr th {\n",
       "        vertical-align: top;\n",
       "    }\n",
       "\n",
       "    .dataframe thead th {\n",
       "        text-align: right;\n",
       "    }\n",
       "</style>\n",
       "<table border=\"1\" class=\"dataframe\">\n",
       "  <thead>\n",
       "    <tr style=\"text-align: right;\">\n",
       "      <th></th>\n",
       "      <th>user_id</th>\n",
       "      <th>item_id</th>\n",
       "      <th>score</th>\n",
       "      <th>rank</th>\n",
       "    </tr>\n",
       "  </thead>\n",
       "  <tbody>\n",
       "    <tr>\n",
       "      <th>0</th>\n",
       "      <td>673874</td>\n",
       "      <td>10440</td>\n",
       "      <td>1799.0</td>\n",
       "      <td>1</td>\n",
       "    </tr>\n",
       "    <tr>\n",
       "      <th>1</th>\n",
       "      <td>673874</td>\n",
       "      <td>15297</td>\n",
       "      <td>1766.0</td>\n",
       "      <td>2</td>\n",
       "    </tr>\n",
       "    <tr>\n",
       "      <th>2</th>\n",
       "      <td>673874</td>\n",
       "      <td>9728</td>\n",
       "      <td>1187.0</td>\n",
       "      <td>3</td>\n",
       "    </tr>\n",
       "    <tr>\n",
       "      <th>3</th>\n",
       "      <td>673874</td>\n",
       "      <td>13865</td>\n",
       "      <td>1176.0</td>\n",
       "      <td>4</td>\n",
       "    </tr>\n",
       "    <tr>\n",
       "      <th>4</th>\n",
       "      <td>673874</td>\n",
       "      <td>4151</td>\n",
       "      <td>812.0</td>\n",
       "      <td>5</td>\n",
       "    </tr>\n",
       "  </tbody>\n",
       "</table>\n",
       "</div>"
      ],
      "text/plain": [
       "   user_id  item_id   score  rank\n",
       "0   673874    10440  1799.0     1\n",
       "1   673874    15297  1766.0     2\n",
       "2   673874     9728  1187.0     3\n",
       "3   673874    13865  1176.0     4\n",
       "4   673874     4151   812.0     5"
      ]
     },
     "execution_count": 7,
     "metadata": {},
     "output_type": "execute_result"
    }
   ],
   "source": [
    "pop_recs = pop.recommend(\n",
    "    dataset.user_id_map.external_ids,\n",
    "    dataset=dataset,\n",
    "    k=10,\n",
    "    filter_viewed=False  # True - удаляет просмотренные айтемы из рекомендаций \n",
    ")\n",
    "pop_recs[['item_id', 'item_id', 'rank']].to_csv('../processed_data/popular_10_recs.csv')\n",
    "pop_recs.head()"
   ]
  },
  {
   "cell_type": "markdown",
   "id": "76165c4c",
   "metadata": {},
   "source": [
    "# Задаем фолды для кросс-валидации"
   ]
  },
  {
   "cell_type": "code",
   "execution_count": 8,
   "id": "6ea0ce15",
   "metadata": {},
   "outputs": [],
   "source": [
    "N_SPLITS = 10\n",
    "TEST_SIZE = '10D'"
   ]
  },
  {
   "cell_type": "code",
   "execution_count": 9,
   "id": "25dcfb6f",
   "metadata": {},
   "outputs": [],
   "source": [
    "# Init generator of folds\n",
    "cv = TimeRangeSplitter(\n",
    "    test_size=TEST_SIZE,\n",
    "    n_splits=N_SPLITS,\n",
    "    filter_already_seen=True,\n",
    "    filter_cold_items=True,\n",
    "    filter_cold_users=True,\n",
    ")"
   ]
  },
  {
   "cell_type": "code",
   "execution_count": 10,
   "id": "af7f61f2",
   "metadata": {},
   "outputs": [
    {
     "data": {
      "text/plain": [
       "[(Timestamp('2021-05-15 00:00:00', freq='10D'),\n",
       "  Timestamp('2021-05-25 00:00:00', freq='10D')),\n",
       " (Timestamp('2021-05-25 00:00:00', freq='10D'),\n",
       "  Timestamp('2021-06-04 00:00:00', freq='10D')),\n",
       " (Timestamp('2021-06-04 00:00:00', freq='10D'),\n",
       "  Timestamp('2021-06-14 00:00:00', freq='10D')),\n",
       " (Timestamp('2021-06-14 00:00:00', freq='10D'),\n",
       "  Timestamp('2021-06-24 00:00:00', freq='10D')),\n",
       " (Timestamp('2021-06-24 00:00:00', freq='10D'),\n",
       "  Timestamp('2021-07-04 00:00:00', freq='10D')),\n",
       " (Timestamp('2021-07-04 00:00:00', freq='10D'),\n",
       "  Timestamp('2021-07-14 00:00:00', freq='10D')),\n",
       " (Timestamp('2021-07-14 00:00:00', freq='10D'),\n",
       "  Timestamp('2021-07-24 00:00:00', freq='10D')),\n",
       " (Timestamp('2021-07-24 00:00:00', freq='10D'),\n",
       "  Timestamp('2021-08-03 00:00:00', freq='10D')),\n",
       " (Timestamp('2021-08-03 00:00:00', freq='10D'),\n",
       "  Timestamp('2021-08-13 00:00:00', freq='10D')),\n",
       " (Timestamp('2021-08-13 00:00:00', freq='10D'),\n",
       "  Timestamp('2021-08-23 00:00:00', freq='10D'))]"
      ]
     },
     "execution_count": 10,
     "metadata": {},
     "output_type": "execute_result"
    }
   ],
   "source": [
    "cv.get_test_fold_borders(interactions)"
   ]
  },
  {
   "cell_type": "markdown",
   "id": "cd1a5482",
   "metadata": {},
   "source": [
    "## Задаем метрики и модели, по которым будем делать CV"
   ]
  },
  {
   "cell_type": "code",
   "execution_count": 11,
   "id": "fce4747a",
   "metadata": {},
   "outputs": [],
   "source": [
    "# calculate several classic (precision@k and recall@k) and \"beyond accuracy\" metrics\n",
    "metrics = {\n",
    "    'map@10': MAP(k=10),\n",
    "    'novelty': MeanInvUserFreq(k=10),\n",
    "}\n",
    "\n",
    "# few simple models to compare\n",
    "models = {\n",
    "    'cosine_userknn': CosineRecommender(), # implicit \n",
    "    'tfidf_userknn': TFIDFRecommender(), \n",
    "    'bm25_userknn': BM25Recommender()\n",
    "}\n",
    "models_fitted = {\n",
    "    'cosine_userknn': CosineRecommender(), # implicit \n",
    "    'tfidf_userknn': TFIDFRecommender(), \n",
    "    'bm25_userknn': BM25Recommender()}"
   ]
  },
  {
   "cell_type": "markdown",
   "id": "06be6d3b",
   "metadata": {},
   "source": [
    "# Тюнинг моделей Knn"
   ]
  },
  {
   "cell_type": "code",
   "execution_count": 12,
   "metadata": {},
   "outputs": [],
   "source": [
    "import copy"
   ]
  },
  {
   "cell_type": "code",
   "execution_count": 13,
   "id": "d07f350f",
   "metadata": {
    "scrolled": false
   },
   "outputs": [
    {
     "name": "stdout",
     "output_type": "stream",
     "text": [
      "\n",
      "==================== Fold 0\n",
      "{'end': Timestamp('2021-05-25 00:00:00', freq='10D'),\n",
      " 'i_split': 0,\n",
      " 'start': Timestamp('2021-05-15 00:00:00', freq='10D'),\n",
      " 'test': 144,\n",
      " 'test_items': 132,\n",
      " 'test_users': 136,\n",
      " 'train': 11106,\n",
      " 'train_items': 2733,\n",
      " 'train_users': 10352}\n"
     ]
    },
    {
     "name": "stderr",
     "output_type": "stream",
     "text": [
      "100%|██████████| 10352/10352 [00:00<00:00, 396981.32it/s]\n",
      "100%|██████████| 10352/10352 [00:00<00:00, 395935.14it/s]\n",
      "100%|██████████| 10352/10352 [00:00<00:00, 393409.58it/s]\n"
     ]
    },
    {
     "name": "stdout",
     "output_type": "stream",
     "text": [
      "\n",
      "==================== Fold 1\n",
      "{'end': Timestamp('2021-06-04 00:00:00', freq='10D'),\n",
      " 'i_split': 1,\n",
      " 'start': Timestamp('2021-05-25 00:00:00', freq='10D'),\n",
      " 'test': 139,\n",
      " 'test_items': 132,\n",
      " 'test_users': 132,\n",
      " 'train': 13571,\n",
      " 'train_items': 2999,\n",
      " 'train_users': 12578}\n"
     ]
    },
    {
     "name": "stderr",
     "output_type": "stream",
     "text": [
      "100%|██████████| 12578/12578 [00:00<00:00, 385085.59it/s]\n",
      "100%|██████████| 12578/12578 [00:00<00:00, 410593.72it/s]\n",
      "100%|██████████| 12578/12578 [00:00<00:00, 360379.50it/s]\n"
     ]
    },
    {
     "name": "stdout",
     "output_type": "stream",
     "text": [
      "\n",
      "==================== Fold 2\n",
      "{'end': Timestamp('2021-06-14 00:00:00', freq='10D'),\n",
      " 'i_split': 2,\n",
      " 'start': Timestamp('2021-06-04 00:00:00', freq='10D'),\n",
      " 'test': 190,\n",
      " 'test_items': 163,\n",
      " 'test_users': 180,\n",
      " 'train': 16175,\n",
      " 'train_items': 3256,\n",
      " 'train_users': 14958}\n"
     ]
    },
    {
     "name": "stderr",
     "output_type": "stream",
     "text": [
      "100%|██████████| 14958/14958 [00:00<00:00, 410325.77it/s]\n",
      "100%|██████████| 14958/14958 [00:00<00:00, 398402.28it/s]\n",
      "100%|██████████| 14958/14958 [00:00<00:00, 386605.86it/s]\n"
     ]
    },
    {
     "name": "stdout",
     "output_type": "stream",
     "text": [
      "\n",
      "==================== Fold 3\n",
      "{'end': Timestamp('2021-06-24 00:00:00', freq='10D'),\n",
      " 'i_split': 3,\n",
      " 'start': Timestamp('2021-06-14 00:00:00', freq='10D'),\n",
      " 'test': 281,\n",
      " 'test_items': 199,\n",
      " 'test_users': 271,\n",
      " 'train': 19841,\n",
      " 'train_items': 3500,\n",
      " 'train_users': 18294}\n"
     ]
    },
    {
     "name": "stderr",
     "output_type": "stream",
     "text": [
      "100%|██████████| 18294/18294 [00:00<00:00, 378866.01it/s]\n",
      "100%|██████████| 18294/18294 [00:00<00:00, 377516.46it/s]\n",
      "100%|██████████| 18294/18294 [00:00<00:00, 397796.65it/s]\n"
     ]
    },
    {
     "name": "stdout",
     "output_type": "stream",
     "text": [
      "\n",
      "==================== Fold 4\n",
      "{'end': Timestamp('2021-07-04 00:00:00', freq='10D'),\n",
      " 'i_split': 4,\n",
      " 'start': Timestamp('2021-06-24 00:00:00', freq='10D'),\n",
      " 'test': 291,\n",
      " 'test_items': 214,\n",
      " 'test_users': 282,\n",
      " 'train': 24109,\n",
      " 'train_items': 3746,\n",
      " 'train_users': 22150}\n"
     ]
    },
    {
     "name": "stderr",
     "output_type": "stream",
     "text": [
      "100%|██████████| 22150/22150 [00:00<00:00, 391319.03it/s]\n",
      "100%|██████████| 22150/22150 [00:00<00:00, 398048.97it/s]\n",
      "100%|██████████| 22150/22150 [00:00<00:00, 364135.98it/s]\n"
     ]
    },
    {
     "name": "stdout",
     "output_type": "stream",
     "text": [
      "\n",
      "==================== Fold 5\n",
      "{'end': Timestamp('2021-07-14 00:00:00', freq='10D'),\n",
      " 'i_split': 5,\n",
      " 'start': Timestamp('2021-07-04 00:00:00', freq='10D'),\n",
      " 'test': 300,\n",
      " 'test_items': 218,\n",
      " 'test_users': 288,\n",
      " 'train': 28961,\n",
      " 'train_items': 3976,\n",
      " 'train_users': 26543}\n"
     ]
    },
    {
     "name": "stderr",
     "output_type": "stream",
     "text": [
      "100%|██████████| 26543/26543 [00:00<00:00, 378555.58it/s]\n",
      "100%|██████████| 26543/26543 [00:00<00:00, 385972.12it/s]\n",
      "100%|██████████| 26543/26543 [00:00<00:00, 377549.09it/s]\n"
     ]
    },
    {
     "name": "stdout",
     "output_type": "stream",
     "text": [
      "\n",
      "==================== Fold 6\n",
      "{'end': Timestamp('2021-07-24 00:00:00', freq='10D'),\n",
      " 'i_split': 6,\n",
      " 'start': Timestamp('2021-07-14 00:00:00', freq='10D'),\n",
      " 'test': 354,\n",
      " 'test_items': 270,\n",
      " 'test_users': 343,\n",
      " 'train': 33423,\n",
      " 'train_items': 4226,\n",
      " 'train_users': 30540}\n"
     ]
    },
    {
     "name": "stderr",
     "output_type": "stream",
     "text": [
      "100%|██████████| 30540/30540 [00:00<00:00, 371495.98it/s]\n",
      "100%|██████████| 30540/30540 [00:00<00:00, 328718.51it/s]\n",
      "100%|██████████| 30540/30540 [00:00<00:00, 385144.47it/s]\n"
     ]
    },
    {
     "name": "stdout",
     "output_type": "stream",
     "text": [
      "\n",
      "==================== Fold 7\n",
      "{'end': Timestamp('2021-08-03 00:00:00', freq='10D'),\n",
      " 'i_split': 7,\n",
      " 'start': Timestamp('2021-07-24 00:00:00', freq='10D'),\n",
      " 'test': 422,\n",
      " 'test_items': 327,\n",
      " 'test_users': 399,\n",
      " 'train': 37946,\n",
      " 'train_items': 4430,\n",
      " 'train_users': 34532}\n"
     ]
    },
    {
     "name": "stderr",
     "output_type": "stream",
     "text": [
      "100%|██████████| 34532/34532 [00:00<00:00, 366627.61it/s]\n",
      "100%|██████████| 34532/34532 [00:00<00:00, 377455.77it/s]\n",
      "100%|██████████| 34532/34532 [00:00<00:00, 377517.75it/s]\n"
     ]
    },
    {
     "name": "stdout",
     "output_type": "stream",
     "text": [
      "\n",
      "==================== Fold 8\n",
      "{'end': Timestamp('2021-08-13 00:00:00', freq='10D'),\n",
      " 'i_split': 8,\n",
      " 'start': Timestamp('2021-08-03 00:00:00', freq='10D'),\n",
      " 'test': 493,\n",
      " 'test_items': 380,\n",
      " 'test_users': 464,\n",
      " 'train': 43253,\n",
      " 'train_items': 4656,\n",
      " 'train_users': 39244}\n"
     ]
    },
    {
     "name": "stderr",
     "output_type": "stream",
     "text": [
      "100%|██████████| 39244/39244 [00:00<00:00, 343755.06it/s]\n",
      "100%|██████████| 39244/39244 [00:00<00:00, 337566.76it/s]\n",
      "100%|██████████| 39244/39244 [00:00<00:00, 319211.22it/s]\n"
     ]
    },
    {
     "name": "stdout",
     "output_type": "stream",
     "text": [
      "\n",
      "==================== Fold 9\n",
      "{'end': Timestamp('2021-08-23 00:00:00', freq='10D'),\n",
      " 'i_split': 9,\n",
      " 'start': Timestamp('2021-08-13 00:00:00', freq='10D'),\n",
      " 'test': 557,\n",
      " 'test_items': 434,\n",
      " 'test_users': 535,\n",
      " 'train': 48751,\n",
      " 'train_items': 4864,\n",
      " 'train_users': 44058}\n"
     ]
    },
    {
     "name": "stderr",
     "output_type": "stream",
     "text": [
      "100%|██████████| 44058/44058 [00:00<00:00, 317026.16it/s]\n",
      "100%|██████████| 44058/44058 [00:00<00:00, 352421.65it/s]\n",
      "100%|██████████| 44058/44058 [00:00<00:00, 349131.76it/s]\n"
     ]
    },
    {
     "name": "stdout",
     "output_type": "stream",
     "text": [
      "CPU times: user 18.8 s, sys: 2.07 s, total: 20.9 s\n",
      "Wall time: 12.9 s\n"
     ]
    }
   ],
   "source": [
    "%%time\n",
    "\n",
    "results = []\n",
    "\n",
    "fold_iterator = cv.split(interactions, collect_fold_stats=True)\n",
    "\n",
    "for i_fold, (train_ids, test_ids, fold_info) in enumerate(fold_iterator):\n",
    "    print(f\"\\n==================== Fold {i_fold}\")\n",
    "    pprint(fold_info)\n",
    "\n",
    "    df_train = interactions.df.iloc[train_ids].copy()\n",
    "    df_test = interactions.df.iloc[test_ids][Columns.UserItem].copy()\n",
    "\n",
    "    catalog = df_train[Columns.Item].unique()\n",
    "    \n",
    "    for model_name, model in models.items():\n",
    "        userknn_model = UserKnn(model=model, N_users=50)\n",
    "        userknn_model.fit(df_train)\n",
    "\n",
    "        # models_fitted[model_name] = copy.deepcopy(userknn_model)\n",
    "    \n",
    "        recos = userknn_model.predict(df_test)\n",
    "    \n",
    "        metric_values = calc_metrics(\n",
    "            metrics,\n",
    "            reco=recos,\n",
    "            interactions=df_test,\n",
    "            prev_interactions=df_train,\n",
    "            catalog=catalog,\n",
    "        )\n",
    "    \n",
    "        fold = {\"fold\": i_fold, \"model\": model_name}\n",
    "        fold.update(metric_values)\n",
    "        results.append(fold)\n",
    "        "
   ]
  },
  {
   "cell_type": "markdown",
   "id": "f721eb3b",
   "metadata": {},
   "source": [
    "# Метрики качества по фолдам "
   ]
  },
  {
   "cell_type": "code",
   "execution_count": 21,
   "id": "5140f29c",
   "metadata": {},
   "outputs": [],
   "source": [
    "df_metrics = pd.DataFrame(results)\n",
    "# df_metrics"
   ]
  },
  {
   "cell_type": "markdown",
   "id": "ee277c01",
   "metadata": {},
   "source": [
    "## Metrics mean \n"
   ]
  },
  {
   "cell_type": "code",
   "execution_count": 22,
   "id": "358d6a1d",
   "metadata": {},
   "outputs": [
    {
     "data": {
      "text/html": [
       "<div>\n",
       "<style scoped>\n",
       "    .dataframe tbody tr th:only-of-type {\n",
       "        vertical-align: middle;\n",
       "    }\n",
       "\n",
       "    .dataframe tbody tr th {\n",
       "        vertical-align: top;\n",
       "    }\n",
       "\n",
       "    .dataframe thead th {\n",
       "        text-align: right;\n",
       "    }\n",
       "</style>\n",
       "<table border=\"1\" class=\"dataframe\">\n",
       "  <thead>\n",
       "    <tr style=\"text-align: right;\">\n",
       "      <th></th>\n",
       "      <th>map@10</th>\n",
       "      <th>novelty</th>\n",
       "    </tr>\n",
       "    <tr>\n",
       "      <th>model</th>\n",
       "      <th></th>\n",
       "      <th></th>\n",
       "    </tr>\n",
       "  </thead>\n",
       "  <tbody>\n",
       "    <tr>\n",
       "      <th>bm25_userknn</th>\n",
       "      <td>0.000087</td>\n",
       "      <td>10.077202</td>\n",
       "    </tr>\n",
       "    <tr>\n",
       "      <th>cosine_userknn</th>\n",
       "      <td>0.000087</td>\n",
       "      <td>10.023727</td>\n",
       "    </tr>\n",
       "    <tr>\n",
       "      <th>tfidf_userknn</th>\n",
       "      <td>0.000087</td>\n",
       "      <td>10.038238</td>\n",
       "    </tr>\n",
       "  </tbody>\n",
       "</table>\n",
       "</div>"
      ],
      "text/plain": [
       "                  map@10    novelty\n",
       "model                              \n",
       "bm25_userknn    0.000087  10.077202\n",
       "cosine_userknn  0.000087  10.023727\n",
       "tfidf_userknn   0.000087  10.038238"
      ]
     },
     "execution_count": 22,
     "metadata": {},
     "output_type": "execute_result"
    }
   ],
   "source": [
    "df_metrics.groupby('model').mean()[metrics.keys()]"
   ]
  },
  {
   "cell_type": "code",
   "execution_count": 36,
   "metadata": {},
   "outputs": [
    {
     "name": "stderr",
     "output_type": "stream",
     "text": [
      "100%|██████████| 49297/49297 [00:00<00:00, 337314.34it/s]\n"
     ]
    }
   ],
   "source": [
    "userknn_model = UserKnn(model=models['bm25_userknn'], N_users=interactions.df.user_id.nunique())\n",
    "userknn_model.fit(interactions.df)"
   ]
  },
  {
   "cell_type": "code",
   "execution_count": 32,
   "metadata": {},
   "outputs": [
    {
     "data": {
      "text/html": [
       "<div>\n",
       "<style scoped>\n",
       "    .dataframe tbody tr th:only-of-type {\n",
       "        vertical-align: middle;\n",
       "    }\n",
       "\n",
       "    .dataframe tbody tr th {\n",
       "        vertical-align: top;\n",
       "    }\n",
       "\n",
       "    .dataframe thead th {\n",
       "        text-align: right;\n",
       "    }\n",
       "</style>\n",
       "<table border=\"1\" class=\"dataframe\">\n",
       "  <thead>\n",
       "    <tr style=\"text-align: right;\">\n",
       "      <th></th>\n",
       "      <th>user_id</th>\n",
       "      <th>item_id</th>\n",
       "      <th>datetime</th>\n",
       "      <th>weight</th>\n",
       "      <th>watched_pct</th>\n",
       "    </tr>\n",
       "  </thead>\n",
       "  <tbody>\n",
       "    <tr>\n",
       "      <th>4042379</th>\n",
       "      <td>673874</td>\n",
       "      <td>10275</td>\n",
       "      <td>2021-06-18</td>\n",
       "      <td>1496.0</td>\n",
       "      <td>38.0</td>\n",
       "    </tr>\n",
       "    <tr>\n",
       "      <th>4873938</th>\n",
       "      <td>482711</td>\n",
       "      <td>16197</td>\n",
       "      <td>2021-07-31</td>\n",
       "      <td>2519.0</td>\n",
       "      <td>43.0</td>\n",
       "    </tr>\n",
       "    <tr>\n",
       "      <th>4655681</th>\n",
       "      <td>286562</td>\n",
       "      <td>15915</td>\n",
       "      <td>2021-05-13</td>\n",
       "      <td>11491.0</td>\n",
       "      <td>100.0</td>\n",
       "    </tr>\n",
       "    <tr>\n",
       "      <th>3852255</th>\n",
       "      <td>591189</td>\n",
       "      <td>8771</td>\n",
       "      <td>2021-07-21</td>\n",
       "      <td>29.0</td>\n",
       "      <td>0.0</td>\n",
       "    </tr>\n",
       "    <tr>\n",
       "      <th>4896893</th>\n",
       "      <td>654195</td>\n",
       "      <td>10440</td>\n",
       "      <td>2021-07-27</td>\n",
       "      <td>151.0</td>\n",
       "      <td>0.0</td>\n",
       "    </tr>\n",
       "    <tr>\n",
       "      <th>...</th>\n",
       "      <td>...</td>\n",
       "      <td>...</td>\n",
       "      <td>...</td>\n",
       "      <td>...</td>\n",
       "      <td>...</td>\n",
       "    </tr>\n",
       "    <tr>\n",
       "      <th>2433002</th>\n",
       "      <td>545741</td>\n",
       "      <td>5424</td>\n",
       "      <td>2021-08-09</td>\n",
       "      <td>5269.0</td>\n",
       "      <td>98.0</td>\n",
       "    </tr>\n",
       "    <tr>\n",
       "      <th>516893</th>\n",
       "      <td>17099</td>\n",
       "      <td>4151</td>\n",
       "      <td>2021-07-03</td>\n",
       "      <td>3354.0</td>\n",
       "      <td>38.0</td>\n",
       "    </tr>\n",
       "    <tr>\n",
       "      <th>5110384</th>\n",
       "      <td>848963</td>\n",
       "      <td>10440</td>\n",
       "      <td>2021-07-08</td>\n",
       "      <td>68962.0</td>\n",
       "      <td>40.0</td>\n",
       "    </tr>\n",
       "    <tr>\n",
       "      <th>1559789</th>\n",
       "      <td>236904</td>\n",
       "      <td>4151</td>\n",
       "      <td>2021-08-17</td>\n",
       "      <td>3870.0</td>\n",
       "      <td>13.0</td>\n",
       "    </tr>\n",
       "    <tr>\n",
       "      <th>817470</th>\n",
       "      <td>766702</td>\n",
       "      <td>11322</td>\n",
       "      <td>2021-05-02</td>\n",
       "      <td>1345.0</td>\n",
       "      <td>25.0</td>\n",
       "    </tr>\n",
       "  </tbody>\n",
       "</table>\n",
       "<p>54763 rows × 5 columns</p>\n",
       "</div>"
      ],
      "text/plain": [
       "         user_id  item_id   datetime   weight  watched_pct\n",
       "4042379   673874    10275 2021-06-18   1496.0         38.0\n",
       "4873938   482711    16197 2021-07-31   2519.0         43.0\n",
       "4655681   286562    15915 2021-05-13  11491.0        100.0\n",
       "3852255   591189     8771 2021-07-21     29.0          0.0\n",
       "4896893   654195    10440 2021-07-27    151.0          0.0\n",
       "...          ...      ...        ...      ...          ...\n",
       "2433002   545741     5424 2021-08-09   5269.0         98.0\n",
       "516893     17099     4151 2021-07-03   3354.0         38.0\n",
       "5110384   848963    10440 2021-07-08  68962.0         40.0\n",
       "1559789   236904     4151 2021-08-17   3870.0         13.0\n",
       "817470    766702    11322 2021-05-02   1345.0         25.0\n",
       "\n",
       "[54763 rows x 5 columns]"
      ]
     },
     "execution_count": 32,
     "metadata": {},
     "output_type": "execute_result"
    }
   ],
   "source": [
    "interactions.df"
   ]
  },
  {
   "cell_type": "code",
   "execution_count": 37,
   "metadata": {},
   "outputs": [],
   "source": [
    "ready_recs = userknn_model.predict(interactions.df)\n",
    "ready_recs.to_csv('../processed_data/knn_bm25.csv')"
   ]
  },
  {
   "cell_type": "markdown",
   "metadata": {},
   "source": [
    "Выводы:\n",
    "bm25 и cosine выдают более качественные рекомендации, чем tfidf, \n",
    "\n",
    "при этом bm25 предсказывает наиболее разнообразную выборку при лучшем из имеющихся скорах МАР\n",
    "\n",
    "В итогом варианте выбираем bm25 модель"
   ]
  },
  {
   "cell_type": "code",
   "execution_count": 19,
   "metadata": {},
   "outputs": [],
   "source": [
    "import dill\n",
    "\n",
    "with open('../models/model_bm25.pkl', 'wb') as f:\n",
    "    dill.dump(models['bm25_userknn'], f)"
   ]
  },
  {
   "cell_type": "code",
   "execution_count": null,
   "id": "fa67664a",
   "metadata": {},
   "outputs": [],
   "source": []
  }
 ],
 "metadata": {
  "kernelspec": {
   "display_name": "Python 3",
   "language": "python",
   "name": "python3"
  },
  "language_info": {
   "codemirror_mode": {
    "name": "ipython",
    "version": 3
   },
   "file_extension": ".py",
   "mimetype": "text/x-python",
   "name": "python",
   "nbconvert_exporter": "python",
   "pygments_lexer": "ipython3",
   "version": "3.10.12"
  }
 },
 "nbformat": 4,
 "nbformat_minor": 5
}
