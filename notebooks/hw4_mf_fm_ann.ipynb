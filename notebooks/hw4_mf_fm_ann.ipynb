{
 "cells": [
  {
   "cell_type": "markdown",
   "metadata": {},
   "source": [
    "# Imports"
   ]
  },
  {
   "cell_type": "code",
   "execution_count": 35,
   "metadata": {},
   "outputs": [
    {
     "name": "stdout",
     "output_type": "stream",
     "text": [
      "\n",
      "\u001b[1m[\u001b[0m\u001b[34;49mnotice\u001b[0m\u001b[1;39;49m]\u001b[0m\u001b[39;49m A new release of pip is available: \u001b[0m\u001b[31;49m23.3.1\u001b[0m\u001b[39;49m -> \u001b[0m\u001b[32;49m24.0\u001b[0m\n",
      "\u001b[1m[\u001b[0m\u001b[34;49mnotice\u001b[0m\u001b[1;39;49m]\u001b[0m\u001b[39;49m To update, run: \u001b[0m\u001b[32;49mpip install --upgrade pip\u001b[0m\n",
      "Note: you may need to restart the kernel to use updated packages.\n",
      "\n",
      "\u001b[1m[\u001b[0m\u001b[34;49mnotice\u001b[0m\u001b[1;39;49m]\u001b[0m\u001b[39;49m A new release of pip is available: \u001b[0m\u001b[31;49m23.3.1\u001b[0m\u001b[39;49m -> \u001b[0m\u001b[32;49m24.0\u001b[0m\n",
      "\u001b[1m[\u001b[0m\u001b[34;49mnotice\u001b[0m\u001b[1;39;49m]\u001b[0m\u001b[39;49m To update, run: \u001b[0m\u001b[32;49mpip install --upgrade pip\u001b[0m\n",
      "Note: you may need to restart the kernel to use updated packages.\n",
      "\n",
      "\u001b[1m[\u001b[0m\u001b[34;49mnotice\u001b[0m\u001b[1;39;49m]\u001b[0m\u001b[39;49m A new release of pip is available: \u001b[0m\u001b[31;49m23.3.1\u001b[0m\u001b[39;49m -> \u001b[0m\u001b[32;49m24.0\u001b[0m\n",
      "\u001b[1m[\u001b[0m\u001b[34;49mnotice\u001b[0m\u001b[1;39;49m]\u001b[0m\u001b[39;49m To update, run: \u001b[0m\u001b[32;49mpip install --upgrade pip\u001b[0m\n",
      "Note: you may need to restart the kernel to use updated packages.\n",
      "\n",
      "\u001b[1m[\u001b[0m\u001b[34;49mnotice\u001b[0m\u001b[1;39;49m]\u001b[0m\u001b[39;49m A new release of pip is available: \u001b[0m\u001b[31;49m23.3.1\u001b[0m\u001b[39;49m -> \u001b[0m\u001b[32;49m24.0\u001b[0m\n",
      "\u001b[1m[\u001b[0m\u001b[34;49mnotice\u001b[0m\u001b[1;39;49m]\u001b[0m\u001b[39;49m To update, run: \u001b[0m\u001b[32;49mpip install --upgrade pip\u001b[0m\n",
      "Note: you may need to restart the kernel to use updated packages.\n",
      "\n",
      "\u001b[1m[\u001b[0m\u001b[34;49mnotice\u001b[0m\u001b[1;39;49m]\u001b[0m\u001b[39;49m A new release of pip is available: \u001b[0m\u001b[31;49m23.3.1\u001b[0m\u001b[39;49m -> \u001b[0m\u001b[32;49m24.0\u001b[0m\n",
      "\u001b[1m[\u001b[0m\u001b[34;49mnotice\u001b[0m\u001b[1;39;49m]\u001b[0m\u001b[39;49m To update, run: \u001b[0m\u001b[32;49mpip install --upgrade pip\u001b[0m\n",
      "Note: you may need to restart the kernel to use updated packages.\n",
      "\n",
      "\u001b[1m[\u001b[0m\u001b[34;49mnotice\u001b[0m\u001b[1;39;49m]\u001b[0m\u001b[39;49m A new release of pip is available: \u001b[0m\u001b[31;49m23.3.1\u001b[0m\u001b[39;49m -> \u001b[0m\u001b[32;49m24.0\u001b[0m\n",
      "\u001b[1m[\u001b[0m\u001b[34;49mnotice\u001b[0m\u001b[1;39;49m]\u001b[0m\u001b[39;49m To update, run: \u001b[0m\u001b[32;49mpip install --upgrade pip\u001b[0m\n",
      "Note: you may need to restart the kernel to use updated packages.\n"
     ]
    }
   ],
   "source": [
    "%pip install rectools[lightfm] >>None\n",
    "%pip install --upgrade rectools[all] >>None\n",
    "%pip install Jinja2 >>None\n",
    "%pip install optuna >>None\n",
    "%pip install nmslib >>None\n",
    "%pip install faiss-cpu >>None"
   ]
  },
  {
   "cell_type": "code",
   "execution_count": 36,
   "metadata": {},
   "outputs": [],
   "source": [
    "import pandas as pd\n",
    "import numpy as np\n",
    "\n",
    "from rectools.metrics import MAP, calc_metrics\n",
    "from rectools.models import PopularModel, RandomModel\n",
    "from rectools import Columns\n",
    "from rectools.dataset import Dataset\n",
    "from rectools.models import LightFMWrapperModel\n",
    "\n",
    "from pathlib import Path\n",
    "from tqdm import tqdm\n",
    "\n",
    "from lightfm import LightFM"
   ]
  },
  {
   "cell_type": "markdown",
   "metadata": {},
   "source": [
    "# Получение и предобработка всех данных"
   ]
  },
  {
   "cell_type": "code",
   "execution_count": 37,
   "metadata": {},
   "outputs": [
    {
     "data": {
      "text/html": [
       "<div>\n",
       "<style scoped>\n",
       "    .dataframe tbody tr th:only-of-type {\n",
       "        vertical-align: middle;\n",
       "    }\n",
       "\n",
       "    .dataframe tbody tr th {\n",
       "        vertical-align: top;\n",
       "    }\n",
       "\n",
       "    .dataframe thead th {\n",
       "        text-align: right;\n",
       "    }\n",
       "</style>\n",
       "<table border=\"1\" class=\"dataframe\">\n",
       "  <thead>\n",
       "    <tr style=\"text-align: right;\">\n",
       "      <th></th>\n",
       "      <th>user_id</th>\n",
       "      <th>item_id</th>\n",
       "      <th>last_watch_dt</th>\n",
       "      <th>total_dur</th>\n",
       "      <th>watched_pct</th>\n",
       "    </tr>\n",
       "  </thead>\n",
       "  <tbody>\n",
       "    <tr>\n",
       "      <th>0</th>\n",
       "      <td>176549</td>\n",
       "      <td>9506</td>\n",
       "      <td>2021-05-11</td>\n",
       "      <td>4250</td>\n",
       "      <td>72.0</td>\n",
       "    </tr>\n",
       "    <tr>\n",
       "      <th>1</th>\n",
       "      <td>699317</td>\n",
       "      <td>1659</td>\n",
       "      <td>2021-05-29</td>\n",
       "      <td>8317</td>\n",
       "      <td>100.0</td>\n",
       "    </tr>\n",
       "    <tr>\n",
       "      <th>2</th>\n",
       "      <td>656683</td>\n",
       "      <td>7107</td>\n",
       "      <td>2021-05-09</td>\n",
       "      <td>10</td>\n",
       "      <td>0.0</td>\n",
       "    </tr>\n",
       "    <tr>\n",
       "      <th>3</th>\n",
       "      <td>864613</td>\n",
       "      <td>7638</td>\n",
       "      <td>2021-07-05</td>\n",
       "      <td>14483</td>\n",
       "      <td>100.0</td>\n",
       "    </tr>\n",
       "    <tr>\n",
       "      <th>4</th>\n",
       "      <td>964868</td>\n",
       "      <td>9506</td>\n",
       "      <td>2021-04-30</td>\n",
       "      <td>6725</td>\n",
       "      <td>100.0</td>\n",
       "    </tr>\n",
       "  </tbody>\n",
       "</table>\n",
       "</div>"
      ],
      "text/plain": [
       "   user_id  item_id last_watch_dt  total_dur  watched_pct\n",
       "0   176549     9506    2021-05-11       4250         72.0\n",
       "1   699317     1659    2021-05-29       8317        100.0\n",
       "2   656683     7107    2021-05-09         10          0.0\n",
       "3   864613     7638    2021-07-05      14483        100.0\n",
       "4   964868     9506    2021-04-30       6725        100.0"
      ]
     },
     "execution_count": 37,
     "metadata": {},
     "output_type": "execute_result"
    }
   ],
   "source": [
    "interactions = pd.read_csv('../data_original/interactions.csv')\n",
    "users = pd.read_csv('../data_original/users.csv')\n",
    "items = pd.read_csv('../data_original/items.csv')\n",
    "\n",
    "interactions.head()"
   ]
  },
  {
   "cell_type": "code",
   "execution_count": 38,
   "metadata": {},
   "outputs": [],
   "source": [
    "# Преобразование столбца 'last_watch_dt' в формат datetime\n",
    "interactions['last_watch_dt'] = pd.to_datetime(interactions['last_watch_dt'], errors='coerce')\n",
    "# Удаление строк с некорректными значениями даты\n",
    "interactions.dropna(subset=['last_watch_dt'], inplace=True)\n",
    "interactions = interactions.rename(columns={'last_watch_dt': 'datetime'})\n",
    "# Присвоение веса в зависимости от условия\n",
    "interactions['weight'] = np.where(interactions['watched_pct'] > 10, 3, 1)\n",
    "# Разделение на обучающий и тестовый наборы\n",
    "max_date = interactions['datetime'].max()\n",
    "train = interactions[interactions['datetime'] < max_date - pd.Timedelta(days=7)].copy()\n",
    "test = interactions[interactions['datetime'] >= max_date - pd.Timedelta(days=7)].copy()\n",
    "\n",
    "# Фильтрация \"холодных\" пользователей\n",
    "cold_users = test[~test[Columns.User].isin(train[Columns.User])]['user_id'].unique()\n",
    "test = test[~test['user_id'].isin(cold_users)]"
   ]
  },
  {
   "cell_type": "code",
   "execution_count": 39,
   "metadata": {},
   "outputs": [
    {
     "data": {
      "text/plain": [
       "item_id         15565\n",
       "content_type        2\n",
       "title           14937\n",
       "title_orig      10377\n",
       "release_year      105\n",
       "genres           2720\n",
       "countries         676\n",
       "for_kids            2\n",
       "age_rating          6\n",
       "studios            38\n",
       "directors        7809\n",
       "actors          12671\n",
       "description     15225\n",
       "keywords        15123\n",
       "dtype: int64"
      ]
     },
     "execution_count": 39,
     "metadata": {},
     "output_type": "execute_result"
    }
   ],
   "source": [
    "# user features\n",
    "users.fillna('Unknown', inplace=True)\n",
    "users = users[users[Columns.User].isin(train[Columns.User])].copy()\n",
    "user_features = pd.melt(users, id_vars=Columns.User, value_vars=[\"sex\", \"age\", \"income\"], var_name='feature', value_name='value')\n",
    "\n",
    "# item features\n",
    "items = items[items[Columns.Item].isin(train[Columns.Item])].copy()\n",
    "items.nunique()"
   ]
  },
  {
   "cell_type": "code",
   "execution_count": 40,
   "metadata": {},
   "outputs": [
    {
     "data": {
      "text/html": [
       "<div>\n",
       "<style scoped>\n",
       "    .dataframe tbody tr th:only-of-type {\n",
       "        vertical-align: middle;\n",
       "    }\n",
       "\n",
       "    .dataframe tbody tr th {\n",
       "        vertical-align: top;\n",
       "    }\n",
       "\n",
       "    .dataframe thead th {\n",
       "        text-align: right;\n",
       "    }\n",
       "</style>\n",
       "<table border=\"1\" class=\"dataframe\">\n",
       "  <thead>\n",
       "    <tr style=\"text-align: right;\">\n",
       "      <th></th>\n",
       "      <th>id</th>\n",
       "      <th>value</th>\n",
       "      <th>feature</th>\n",
       "    </tr>\n",
       "  </thead>\n",
       "  <tbody>\n",
       "    <tr>\n",
       "      <th>0</th>\n",
       "      <td>10711</td>\n",
       "      <td>драмы</td>\n",
       "      <td>genre</td>\n",
       "    </tr>\n",
       "    <tr>\n",
       "      <th>0</th>\n",
       "      <td>10711</td>\n",
       "      <td>зарубежные</td>\n",
       "      <td>genre</td>\n",
       "    </tr>\n",
       "    <tr>\n",
       "      <th>0</th>\n",
       "      <td>10711</td>\n",
       "      <td>детективы</td>\n",
       "      <td>genre</td>\n",
       "    </tr>\n",
       "    <tr>\n",
       "      <th>0</th>\n",
       "      <td>10711</td>\n",
       "      <td>мелодрамы</td>\n",
       "      <td>genre</td>\n",
       "    </tr>\n",
       "    <tr>\n",
       "      <th>1</th>\n",
       "      <td>2508</td>\n",
       "      <td>зарубежные</td>\n",
       "      <td>genre</td>\n",
       "    </tr>\n",
       "    <tr>\n",
       "      <th>...</th>\n",
       "      <td>...</td>\n",
       "      <td>...</td>\n",
       "      <td>...</td>\n",
       "    </tr>\n",
       "    <tr>\n",
       "      <th>15958</th>\n",
       "      <td>6443</td>\n",
       "      <td>series</td>\n",
       "      <td>content_type</td>\n",
       "    </tr>\n",
       "    <tr>\n",
       "      <th>15959</th>\n",
       "      <td>2367</td>\n",
       "      <td>series</td>\n",
       "      <td>content_type</td>\n",
       "    </tr>\n",
       "    <tr>\n",
       "      <th>15960</th>\n",
       "      <td>10632</td>\n",
       "      <td>series</td>\n",
       "      <td>content_type</td>\n",
       "    </tr>\n",
       "    <tr>\n",
       "      <th>15961</th>\n",
       "      <td>4538</td>\n",
       "      <td>series</td>\n",
       "      <td>content_type</td>\n",
       "    </tr>\n",
       "    <tr>\n",
       "      <th>15962</th>\n",
       "      <td>3206</td>\n",
       "      <td>series</td>\n",
       "      <td>content_type</td>\n",
       "    </tr>\n",
       "  </tbody>\n",
       "</table>\n",
       "<p>55193 rows × 3 columns</p>\n",
       "</div>"
      ],
      "text/plain": [
       "          id       value       feature\n",
       "0      10711       драмы         genre\n",
       "0      10711  зарубежные         genre\n",
       "0      10711   детективы         genre\n",
       "0      10711   мелодрамы         genre\n",
       "1       2508  зарубежные         genre\n",
       "...      ...         ...           ...\n",
       "15958   6443      series  content_type\n",
       "15959   2367      series  content_type\n",
       "15960  10632      series  content_type\n",
       "15961   4538      series  content_type\n",
       "15962   3206      series  content_type\n",
       "\n",
       "[55193 rows x 3 columns]"
      ]
     },
     "execution_count": 40,
     "metadata": {},
     "output_type": "execute_result"
    }
   ],
   "source": [
    "genre_feature = items.assign(genre=items['genres'].str.lower().str.replace(\", \", \",\", regex=False).str.split(\",\")).explode('genre')[['item_id', 'genre']]\n",
    "genre_feature.columns = ['id', 'value']\n",
    "genre_feature['feature'] = 'genre'\n",
    "\n",
    "content_feature = items[[Columns.Item, 'content_type']].copy()\n",
    "content_feature.columns = ['id', 'value']\n",
    "content_feature['feature'] = 'content_type'\n",
    "\n",
    "item_features = pd.concat([genre_feature, content_feature])\n",
    "item_features"
   ]
  },
  {
   "cell_type": "markdown",
   "metadata": {},
   "source": [
    "# LightFM "
   ]
  },
  {
   "cell_type": "code",
   "execution_count": 41,
   "metadata": {},
   "outputs": [],
   "source": [
    "from rectools.model_selection import TimeRangeSplitter\n",
    "from rectools.model_selection.cross_validate import cross_validate\n",
    "from rectools.metrics import MeanInvUserFreq, Serendipity"
   ]
  },
  {
   "cell_type": "code",
   "execution_count": 42,
   "metadata": {},
   "outputs": [],
   "source": [
    "K = 10\n",
    "RANDOM_STATE = 42\n",
    "NUM_THREADS = 16\n",
    "N_FACTORS = 32\n",
    "# For Lightfm train\n",
    "N_EPOCHS = 1 \n",
    "USER_ALPHA = 0 \n",
    "ITEM_ALPHA = 0 \n",
    "LEARNING_RATE = 0.05 "
   ]
  },
  {
   "cell_type": "code",
   "execution_count": 43,
   "metadata": {},
   "outputs": [],
   "source": [
    "n_splits = 3\n",
    "\n",
    "splitter = TimeRangeSplitter(\n",
    "    test_size=\"14D\",\n",
    "    n_splits=n_splits,\n",
    "    filter_already_seen=True,\n",
    "    filter_cold_items=True,\n",
    "    filter_cold_users=True, \n",
    ")\n",
    "dataset = Dataset.construct(\n",
    "    interactions_df=interactions,  \n",
    "    user_features_df=user_features,\n",
    "    cat_user_features=[\"sex\", \"age\", \"income\"],\n",
    "    item_features_df=item_features,\n",
    "    cat_item_features=[\"genre\", \"content_type\"],\n",
    ")"
   ]
  },
  {
   "cell_type": "code",
   "execution_count": 44,
   "metadata": {},
   "outputs": [],
   "source": [
    "models = {\n",
    "    \"random\": RandomModel(random_state=42),\n",
    "    \"popular\": PopularModel(),\n",
    "    \"lightfm\": LightFMWrapperModel(\n",
    "            LightFM(\n",
    "                no_components=N_FACTORS, \n",
    "                loss='warp', \n",
    "                random_state=RANDOM_STATE,\n",
    "                learning_rate=LEARNING_RATE,\n",
    "                user_alpha=USER_ALPHA,\n",
    "                item_alpha=ITEM_ALPHA,\n",
    "            )),\n",
    "}\n",
    "\n",
    "metrics_name = {\n",
    "    'MAP': MAP,\n",
    "    \"novelty\": MeanInvUserFreq,\n",
    "    \"serendipity\": Serendipity,\n",
    "}\n",
    "\n",
    "metrics = {}\n",
    "for metric_name, metric in metrics_name.items():\n",
    "    metrics[f'{metric_name}@{K}'] = metric(k=K)"
   ]
  },
  {
   "cell_type": "code",
   "execution_count": 45,
   "metadata": {},
   "outputs": [],
   "source": [
    "cv_results = cross_validate(\n",
    "    dataset=dataset,\n",
    "    splitter=splitter,\n",
    "    models=models,\n",
    "    metrics=metrics,\n",
    "    k=K,\n",
    "    filter_viewed=True,\n",
    ")"
   ]
  },
  {
   "cell_type": "code",
   "execution_count": 46,
   "metadata": {},
   "outputs": [
    {
     "data": {
      "text/html": [
       "<div>\n",
       "<style scoped>\n",
       "    .dataframe tbody tr th:only-of-type {\n",
       "        vertical-align: middle;\n",
       "    }\n",
       "\n",
       "    .dataframe tbody tr th {\n",
       "        vertical-align: top;\n",
       "    }\n",
       "\n",
       "    .dataframe thead th {\n",
       "        text-align: right;\n",
       "    }\n",
       "</style>\n",
       "<table border=\"1\" class=\"dataframe\">\n",
       "  <thead>\n",
       "    <tr style=\"text-align: right;\">\n",
       "      <th></th>\n",
       "      <th>model</th>\n",
       "      <th>i_split</th>\n",
       "      <th>MAP@10</th>\n",
       "      <th>novelty@10</th>\n",
       "      <th>serendipity@10</th>\n",
       "    </tr>\n",
       "  </thead>\n",
       "  <tbody>\n",
       "    <tr>\n",
       "      <th>0</th>\n",
       "      <td>random</td>\n",
       "      <td>0</td>\n",
       "      <td>0.000183</td>\n",
       "      <td>15.504172</td>\n",
       "      <td>0.000006</td>\n",
       "    </tr>\n",
       "    <tr>\n",
       "      <th>1</th>\n",
       "      <td>popular</td>\n",
       "      <td>0</td>\n",
       "      <td>0.113264</td>\n",
       "      <td>3.753619</td>\n",
       "      <td>0.000003</td>\n",
       "    </tr>\n",
       "    <tr>\n",
       "      <th>2</th>\n",
       "      <td>lightfm</td>\n",
       "      <td>0</td>\n",
       "      <td>0.112527</td>\n",
       "      <td>4.238316</td>\n",
       "      <td>0.000025</td>\n",
       "    </tr>\n",
       "    <tr>\n",
       "      <th>3</th>\n",
       "      <td>random</td>\n",
       "      <td>1</td>\n",
       "      <td>0.000149</td>\n",
       "      <td>15.560270</td>\n",
       "      <td>0.000007</td>\n",
       "    </tr>\n",
       "    <tr>\n",
       "      <th>4</th>\n",
       "      <td>popular</td>\n",
       "      <td>1</td>\n",
       "      <td>0.096352</td>\n",
       "      <td>3.711794</td>\n",
       "      <td>0.000003</td>\n",
       "    </tr>\n",
       "    <tr>\n",
       "      <th>5</th>\n",
       "      <td>lightfm</td>\n",
       "      <td>1</td>\n",
       "      <td>0.096972</td>\n",
       "      <td>4.206342</td>\n",
       "      <td>0.000028</td>\n",
       "    </tr>\n",
       "    <tr>\n",
       "      <th>6</th>\n",
       "      <td>random</td>\n",
       "      <td>2</td>\n",
       "      <td>0.000163</td>\n",
       "      <td>15.609173</td>\n",
       "      <td>0.000007</td>\n",
       "    </tr>\n",
       "    <tr>\n",
       "      <th>7</th>\n",
       "      <td>popular</td>\n",
       "      <td>2</td>\n",
       "      <td>0.086029</td>\n",
       "      <td>3.703142</td>\n",
       "      <td>0.000003</td>\n",
       "    </tr>\n",
       "    <tr>\n",
       "      <th>8</th>\n",
       "      <td>lightfm</td>\n",
       "      <td>2</td>\n",
       "      <td>0.089114</td>\n",
       "      <td>4.210284</td>\n",
       "      <td>0.000031</td>\n",
       "    </tr>\n",
       "  </tbody>\n",
       "</table>\n",
       "</div>"
      ],
      "text/plain": [
       "     model  i_split    MAP@10  novelty@10  serendipity@10\n",
       "0   random        0  0.000183   15.504172        0.000006\n",
       "1  popular        0  0.113264    3.753619        0.000003\n",
       "2  lightfm        0  0.112527    4.238316        0.000025\n",
       "3   random        1  0.000149   15.560270        0.000007\n",
       "4  popular        1  0.096352    3.711794        0.000003\n",
       "5  lightfm        1  0.096972    4.206342        0.000028\n",
       "6   random        2  0.000163   15.609173        0.000007\n",
       "7  popular        2  0.086029    3.703142        0.000003\n",
       "8  lightfm        2  0.089114    4.210284        0.000031"
      ]
     },
     "execution_count": 46,
     "metadata": {},
     "output_type": "execute_result"
    }
   ],
   "source": [
    "pd.DataFrame(cv_results[\"metrics\"])"
   ]
  },
  {
   "cell_type": "code",
   "execution_count": 47,
   "metadata": {},
   "outputs": [
    {
     "data": {
      "text/html": [
       "<style type=\"text/css\">\n",
       "#T_1388c_row0_col0, #T_1388c_row1_col2, #T_1388c_row1_col4 {\n",
       "  background-color: coral;\n",
       "}\n",
       "#T_1388c_row0_col2, #T_1388c_row2_col0, #T_1388c_row2_col4 {\n",
       "  background-color: green;\n",
       "}\n",
       "</style>\n",
       "<table id=\"T_1388c\">\n",
       "  <thead>\n",
       "    <tr>\n",
       "      <th class=\"blank level0\" >&nbsp;</th>\n",
       "      <th id=\"T_1388c_level0_col0\" class=\"col_heading level0 col0\" colspan=\"2\">MAP@10</th>\n",
       "      <th id=\"T_1388c_level0_col2\" class=\"col_heading level0 col2\" colspan=\"2\">novelty@10</th>\n",
       "      <th id=\"T_1388c_level0_col4\" class=\"col_heading level0 col4\" colspan=\"2\">serendipity@10</th>\n",
       "    </tr>\n",
       "    <tr>\n",
       "      <th class=\"blank level1\" >&nbsp;</th>\n",
       "      <th id=\"T_1388c_level1_col0\" class=\"col_heading level1 col0\" >mean</th>\n",
       "      <th id=\"T_1388c_level1_col1\" class=\"col_heading level1 col1\" >std</th>\n",
       "      <th id=\"T_1388c_level1_col2\" class=\"col_heading level1 col2\" >mean</th>\n",
       "      <th id=\"T_1388c_level1_col3\" class=\"col_heading level1 col3\" >std</th>\n",
       "      <th id=\"T_1388c_level1_col4\" class=\"col_heading level1 col4\" >mean</th>\n",
       "      <th id=\"T_1388c_level1_col5\" class=\"col_heading level1 col5\" >std</th>\n",
       "    </tr>\n",
       "    <tr>\n",
       "      <th class=\"index_name level0\" >model</th>\n",
       "      <th class=\"blank col0\" >&nbsp;</th>\n",
       "      <th class=\"blank col1\" >&nbsp;</th>\n",
       "      <th class=\"blank col2\" >&nbsp;</th>\n",
       "      <th class=\"blank col3\" >&nbsp;</th>\n",
       "      <th class=\"blank col4\" >&nbsp;</th>\n",
       "      <th class=\"blank col5\" >&nbsp;</th>\n",
       "    </tr>\n",
       "  </thead>\n",
       "  <tbody>\n",
       "    <tr>\n",
       "      <th id=\"T_1388c_level0_row0\" class=\"row_heading level0 row0\" >random</th>\n",
       "      <td id=\"T_1388c_row0_col0\" class=\"data row0 col0\" >0.000165</td>\n",
       "      <td id=\"T_1388c_row0_col1\" class=\"data row0 col1\" >0.000017</td>\n",
       "      <td id=\"T_1388c_row0_col2\" class=\"data row0 col2\" >15.557872</td>\n",
       "      <td id=\"T_1388c_row0_col3\" class=\"data row0 col3\" >0.052541</td>\n",
       "      <td id=\"T_1388c_row0_col4\" class=\"data row0 col4\" >0.000007</td>\n",
       "      <td id=\"T_1388c_row0_col5\" class=\"data row0 col5\" >0.000001</td>\n",
       "    </tr>\n",
       "    <tr>\n",
       "      <th id=\"T_1388c_level0_row1\" class=\"row_heading level0 row1\" >popular</th>\n",
       "      <td id=\"T_1388c_row1_col0\" class=\"data row1 col0\" >0.098549</td>\n",
       "      <td id=\"T_1388c_row1_col1\" class=\"data row1 col1\" >0.013750</td>\n",
       "      <td id=\"T_1388c_row1_col2\" class=\"data row1 col2\" >3.722852</td>\n",
       "      <td id=\"T_1388c_row1_col3\" class=\"data row1 col3\" >0.026994</td>\n",
       "      <td id=\"T_1388c_row1_col4\" class=\"data row1 col4\" >0.000003</td>\n",
       "      <td id=\"T_1388c_row1_col5\" class=\"data row1 col5\" >0.000000</td>\n",
       "    </tr>\n",
       "    <tr>\n",
       "      <th id=\"T_1388c_level0_row2\" class=\"row_heading level0 row2\" >lightfm</th>\n",
       "      <td id=\"T_1388c_row2_col0\" class=\"data row2 col0\" >0.099537</td>\n",
       "      <td id=\"T_1388c_row2_col1\" class=\"data row2 col1\" >0.011916</td>\n",
       "      <td id=\"T_1388c_row2_col2\" class=\"data row2 col2\" >4.218314</td>\n",
       "      <td id=\"T_1388c_row2_col3\" class=\"data row2 col3\" >0.017434</td>\n",
       "      <td id=\"T_1388c_row2_col4\" class=\"data row2 col4\" >0.000028</td>\n",
       "      <td id=\"T_1388c_row2_col5\" class=\"data row2 col5\" >0.000003</td>\n",
       "    </tr>\n",
       "  </tbody>\n",
       "</table>\n"
      ],
      "text/plain": [
       "<pandas.io.formats.style.Styler at 0x747342ecc580>"
      ]
     },
     "execution_count": 47,
     "metadata": {},
     "output_type": "execute_result"
    }
   ],
   "source": [
    "pivot_results = (\n",
    "    pd.DataFrame(cv_results[\"metrics\"]).drop(columns=\"i_split\")\n",
    "    .groupby([\"model\"], sort=False).agg([\"mean\", \"std\"])\n",
    ")\n",
    "mean_metric_subset = [(metric, \"mean\") for metric in pivot_results.columns.levels[0]]\n",
    "(\n",
    "    pivot_results.style\n",
    "    .highlight_min(subset=mean_metric_subset, color='coral', axis=0)\n",
    "    .highlight_max(subset=mean_metric_subset, color='green', axis=0)\n",
    ")"
   ]
  },
  {
   "cell_type": "markdown",
   "metadata": {},
   "source": [
    "lightfm по map совсем немного выше чем у popular модели, зато novelty у него лучше.  \n",
    "К тому же serendipity наилучший среди всех моделей, т.к. и map и novelty имеют хорошие значения."
   ]
  },
  {
   "cell_type": "markdown",
   "metadata": {},
   "source": [
    "## Train"
   ]
  },
  {
   "cell_type": "code",
   "execution_count": 48,
   "metadata": {},
   "outputs": [],
   "source": [
    "models = {}\n",
    "loss = 'warp'\n",
    "\n",
    "models[f\"LightFM_{loss}_{N_FACTORS}\"] = LightFMWrapperModel(\n",
    "        LightFM(\n",
    "            no_components=N_FACTORS, \n",
    "            loss=loss, \n",
    "            random_state=RANDOM_STATE,\n",
    "            learning_rate=LEARNING_RATE,\n",
    "            user_alpha=USER_ALPHA,\n",
    "            item_alpha=ITEM_ALPHA,\n",
    "        ),\n",
    "        epochs=N_EPOCHS,\n",
    "        num_threads=NUM_THREADS)"
   ]
  },
  {
   "cell_type": "code",
   "execution_count": 49,
   "metadata": {},
   "outputs": [],
   "source": [
    "metrics_name = {'MAP': MAP}\n",
    "\n",
    "metrics = {}\n",
    "for metric_name, metric in metrics_name.items():\n",
    "    for k in range(1, 11):\n",
    "        metrics[f'{metric_name}@{k}'] = metric(k=k)"
   ]
  },
  {
   "cell_type": "code",
   "execution_count": 50,
   "metadata": {},
   "outputs": [],
   "source": [
    "dataset = Dataset.construct(\n",
    "    interactions_df=train,\n",
    "    user_features_df=user_features,\n",
    "    cat_user_features=[\"sex\", \"age\", \"income\"],\n",
    "    item_features_df=item_features,\n",
    "    cat_item_features=[\"genre\", \"content_type\"])"
   ]
  },
  {
   "cell_type": "code",
   "execution_count": 51,
   "metadata": {},
   "outputs": [
    {
     "data": {
      "text/plain": [
       "[(Timestamp('2021-07-04 00:00:00', freq='14D'),\n",
       "  Timestamp('2021-07-18 00:00:00', freq='14D')),\n",
       " (Timestamp('2021-07-18 00:00:00', freq='14D'),\n",
       "  Timestamp('2021-08-01 00:00:00', freq='14D')),\n",
       " (Timestamp('2021-08-01 00:00:00', freq='14D'),\n",
       "  Timestamp('2021-08-15 00:00:00', freq='14D'))]"
      ]
     },
     "execution_count": 51,
     "metadata": {},
     "output_type": "execute_result"
    }
   ],
   "source": [
    "splitter.get_test_fold_borders(dataset.interactions)"
   ]
  },
  {
   "cell_type": "code",
   "execution_count": 52,
   "metadata": {},
   "outputs": [
    {
     "data": {
      "text/plain": [
       "True"
      ]
     },
     "execution_count": 52,
     "metadata": {},
     "output_type": "execute_result"
    }
   ],
   "source": [
    "123 in dataset.user_id_map.external_ids"
   ]
  },
  {
   "cell_type": "code",
   "execution_count": 53,
   "metadata": {},
   "outputs": [],
   "source": [
    "TEST_USERS = test[Columns.User].unique()"
   ]
  },
  {
   "cell_type": "code",
   "execution_count": 54,
   "metadata": {},
   "outputs": [
    {
     "data": {
      "text/plain": [
       "{'LightFM_warp_32': <rectools.models.lightfm.LightFMWrapperModel at 0x7473fd917bb0>}"
      ]
     },
     "execution_count": 54,
     "metadata": {},
     "output_type": "execute_result"
    }
   ],
   "source": [
    "models"
   ]
  },
  {
   "cell_type": "code",
   "execution_count": 55,
   "metadata": {},
   "outputs": [
    {
     "name": "stdout",
     "output_type": "stream",
     "text": [
      "Fitting model LightFM_warp_32...\n"
     ]
    }
   ],
   "source": [
    "results = []\n",
    "for model_name, model in models.items():\n",
    "    print(f\"Fitting model {model_name}...\")\n",
    "    model_quality = {'model': model_name}\n",
    "\n",
    "    model.fit(dataset)\n",
    "    recos = model.recommend(\n",
    "        users=TEST_USERS,\n",
    "        dataset=dataset,\n",
    "        k=K,\n",
    "        filter_viewed=True)\n",
    "    metric_values = calc_metrics(metrics, recos, test, train)\n",
    "    model_quality.update(metric_values)\n",
    "    results.append(model_quality)"
   ]
  },
  {
   "cell_type": "code",
   "execution_count": 56,
   "metadata": {},
   "outputs": [
    {
     "data": {
      "text/html": [
       "<div>\n",
       "<style scoped>\n",
       "    .dataframe tbody tr th:only-of-type {\n",
       "        vertical-align: middle;\n",
       "    }\n",
       "\n",
       "    .dataframe tbody tr th {\n",
       "        vertical-align: top;\n",
       "    }\n",
       "\n",
       "    .dataframe thead th {\n",
       "        text-align: right;\n",
       "    }\n",
       "</style>\n",
       "<table border=\"1\" class=\"dataframe\">\n",
       "  <thead>\n",
       "    <tr style=\"text-align: right;\">\n",
       "      <th></th>\n",
       "      <th>user_id</th>\n",
       "      <th>item_id</th>\n",
       "      <th>score</th>\n",
       "      <th>rank</th>\n",
       "    </tr>\n",
       "  </thead>\n",
       "  <tbody>\n",
       "    <tr>\n",
       "      <th>0</th>\n",
       "      <td>1</td>\n",
       "      <td>15297</td>\n",
       "      <td>-234.298111</td>\n",
       "      <td>1</td>\n",
       "    </tr>\n",
       "    <tr>\n",
       "      <th>1</th>\n",
       "      <td>1</td>\n",
       "      <td>10440</td>\n",
       "      <td>-234.300827</td>\n",
       "      <td>2</td>\n",
       "    </tr>\n",
       "    <tr>\n",
       "      <th>2</th>\n",
       "      <td>1</td>\n",
       "      <td>9728</td>\n",
       "      <td>-234.519989</td>\n",
       "      <td>3</td>\n",
       "    </tr>\n",
       "    <tr>\n",
       "      <th>3</th>\n",
       "      <td>1</td>\n",
       "      <td>4151</td>\n",
       "      <td>-234.621445</td>\n",
       "      <td>4</td>\n",
       "    </tr>\n",
       "    <tr>\n",
       "      <th>4</th>\n",
       "      <td>1</td>\n",
       "      <td>13865</td>\n",
       "      <td>-234.641357</td>\n",
       "      <td>5</td>\n",
       "    </tr>\n",
       "    <tr>\n",
       "      <th>5</th>\n",
       "      <td>1</td>\n",
       "      <td>3734</td>\n",
       "      <td>-234.711838</td>\n",
       "      <td>6</td>\n",
       "    </tr>\n",
       "    <tr>\n",
       "      <th>6</th>\n",
       "      <td>1</td>\n",
       "      <td>2657</td>\n",
       "      <td>-234.854706</td>\n",
       "      <td>7</td>\n",
       "    </tr>\n",
       "    <tr>\n",
       "      <th>7</th>\n",
       "      <td>1</td>\n",
       "      <td>4880</td>\n",
       "      <td>-235.121262</td>\n",
       "      <td>8</td>\n",
       "    </tr>\n",
       "    <tr>\n",
       "      <th>8</th>\n",
       "      <td>1</td>\n",
       "      <td>7571</td>\n",
       "      <td>-235.132324</td>\n",
       "      <td>9</td>\n",
       "    </tr>\n",
       "    <tr>\n",
       "      <th>9</th>\n",
       "      <td>1</td>\n",
       "      <td>142</td>\n",
       "      <td>-235.146667</td>\n",
       "      <td>10</td>\n",
       "    </tr>\n",
       "  </tbody>\n",
       "</table>\n",
       "</div>"
      ],
      "text/plain": [
       "   user_id  item_id       score  rank\n",
       "0        1    15297 -234.298111     1\n",
       "1        1    10440 -234.300827     2\n",
       "2        1     9728 -234.519989     3\n",
       "3        1     4151 -234.621445     4\n",
       "4        1    13865 -234.641357     5\n",
       "5        1     3734 -234.711838     6\n",
       "6        1     2657 -234.854706     7\n",
       "7        1     4880 -235.121262     8\n",
       "8        1     7571 -235.132324     9\n",
       "9        1      142 -235.146667    10"
      ]
     },
     "execution_count": 56,
     "metadata": {},
     "output_type": "execute_result"
    }
   ],
   "source": [
    "model.recommend(\n",
    "    users=[1],\n",
    "    dataset=dataset,\n",
    "    k=10,\n",
    "    filter_viewed=False)"
   ]
  },
  {
   "cell_type": "code",
   "execution_count": 57,
   "metadata": {},
   "outputs": [
    {
     "data": {
      "text/plain": [
       "0.08122910925562059"
      ]
     },
     "execution_count": 57,
     "metadata": {},
     "output_type": "execute_result"
    }
   ],
   "source": [
    "metric_values = calc_metrics(metrics, recos, test, train)[\"MAP@10\"]\n",
    "metric_values"
   ]
  },
  {
   "cell_type": "markdown",
   "metadata": {},
   "source": [
    "## Tuning"
   ]
  },
  {
   "cell_type": "code",
   "execution_count": 58,
   "metadata": {},
   "outputs": [],
   "source": [
    "import logging\n",
    "import optuna\n",
    "logging.basicConfig(filename=\"optuna.log\",\n",
    "                    filemode='a',\n",
    "                    format='%(asctime)s,%(msecs)d %(name)s %(levelname)s %(message)s',\n",
    "                    datefmt='%H:%M:%S',\n",
    "                    level=logging.DEBUG\n",
    "                    )"
   ]
  },
  {
   "cell_type": "code",
   "execution_count": 59,
   "metadata": {},
   "outputs": [],
   "source": [
    "def objective(trial):\n",
    "    param = {\n",
    "        \"no_components\": trial.suggest_int(\"no_components\", 4, 64),\n",
    "        \"loss\": trial.suggest_categorical(\"loss\", ['logistic', 'bpr', 'warp']),\n",
    "        \"random_state\": RANDOM_STATE,\n",
    "        \"learning_rate\": trial.suggest_float(\"learning_rate\", 0.01, 0.3),\n",
    "        \"user_alpha\": trial.suggest_float(\"user_alpha\", 0, 0.3),\n",
    "        \"item_alpha\": trial.suggest_float(\"item_alpha\", 0, 0.3),\n",
    "    }\n",
    "    model = LightFMWrapperModel(\n",
    "        LightFM(\n",
    "            **param,\n",
    "        ),\n",
    "        epochs=N_EPOCHS,\n",
    "        num_threads=NUM_THREADS,\n",
    "    )\n",
    "    model.fit(dataset)\n",
    "    recos = model.recommend(\n",
    "        users=TEST_USERS,\n",
    "        dataset=dataset,\n",
    "        k=10,\n",
    "        filter_viewed=True,\n",
    "    )\n",
    "\n",
    "    metric_value = calc_metrics({\"MAP@10\": MAP(k=10)}, recos, test, train)[\"MAP@10\"]\n",
    "    logging.info(f\"{metric_value=}: {param=}\")\n",
    "    return metric_value"
   ]
  },
  {
   "cell_type": "code",
   "execution_count": 60,
   "metadata": {},
   "outputs": [
    {
     "name": "stderr",
     "output_type": "stream",
     "text": [
      "[I 2024-03-12 21:48:48,303] A new study created in memory with name: no-name-dbf4f94d-bbfe-4a47-ae01-25d24406cb4e\n",
      "Best trial: 4. Best value: 0.0787852:  10%|█         | 1/10 [01:10<10:32, 70.29s/it]"
     ]
    },
    {
     "name": "stdout",
     "output_type": "stream",
     "text": [
      "[I 2024-03-12 21:49:58,594] Trial 4 finished with value: 0.07878523986540956 and parameters: {'no_components': 22, 'loss': 'warp', 'learning_rate': 0.06017342156239966, 'user_alpha': 0.1470177880800501, 'item_alpha': 0.274150906686091}. Best is trial 4 with value: 0.07878523986540956.\n"
     ]
    },
    {
     "name": "stderr",
     "output_type": "stream",
     "text": [
      "Best trial: 4. Best value: 0.0787852:  20%|██        | 2/10 [01:37<05:57, 44.70s/it]"
     ]
    },
    {
     "name": "stdout",
     "output_type": "stream",
     "text": [
      "[I 2024-03-12 21:50:25,294] Trial 9 finished with value: 0.07481687128599925 and parameters: {'no_components': 29, 'loss': 'warp', 'learning_rate': 0.06665908642766347, 'user_alpha': 0.11803659202804068, 'item_alpha': 0.2931751415673471}. Best is trial 4 with value: 0.07878523986540956.\n"
     ]
    },
    {
     "name": "stderr",
     "output_type": "stream",
     "text": [
      "Best trial: 4. Best value: 0.0787852:  30%|███       | 3/10 [01:52<03:37, 31.12s/it]"
     ]
    },
    {
     "name": "stdout",
     "output_type": "stream",
     "text": [
      "[I 2024-03-12 21:50:40,343] Trial 6 finished with value: 0.0002245066441358701 and parameters: {'no_components': 6, 'loss': 'logistic', 'learning_rate': 0.03646279349276402, 'user_alpha': 0.19406057542844107, 'item_alpha': 0.18584404575328253}. Best is trial 4 with value: 0.07878523986540956.\n"
     ]
    },
    {
     "name": "stderr",
     "output_type": "stream",
     "text": [
      "Best trial: 4. Best value: 0.0787852:  40%|████      | 4/10 [02:21<03:01, 30.32s/it]"
     ]
    },
    {
     "name": "stdout",
     "output_type": "stream",
     "text": [
      "[I 2024-03-12 21:51:09,440] Trial 2 finished with value: 1.3829078125993964e-06 and parameters: {'no_components': 22, 'loss': 'bpr', 'learning_rate': 0.05897978470425043, 'user_alpha': 0.007998804570789064, 'item_alpha': 0.1443879844380104}. Best is trial 4 with value: 0.07878523986540956.\n"
     ]
    },
    {
     "name": "stderr",
     "output_type": "stream",
     "text": [
      "Best trial: 4. Best value: 0.0787852:  50%|█████     | 5/10 [03:06<02:59, 35.86s/it]"
     ]
    },
    {
     "name": "stdout",
     "output_type": "stream",
     "text": [
      "[I 2024-03-12 21:51:55,128] Trial 3 finished with value: 2.3493552067445346e-06 and parameters: {'no_components': 23, 'loss': 'bpr', 'learning_rate': 0.06570528865781643, 'user_alpha': 0.10354102235047499, 'item_alpha': 0.2766366073420747}. Best is trial 4 with value: 0.07878523986540956.\n",
      "[I 2024-03-12 21:51:55,163] Trial 0 finished with value: 0.07514689658500993 and parameters: {'no_components': 61, 'loss': 'warp', 'learning_rate': 0.22958684083647646, 'user_alpha': 0.10227312715865738, 'item_alpha': 0.049429867705118334}. Best is trial 4 with value: 0.07878523986540956.\n"
     ]
    },
    {
     "name": "stderr",
     "output_type": "stream",
     "text": [
      "Best trial: 4. Best value: 0.0787852:  70%|███████   | 7/10 [03:40<01:18, 26.23s/it]"
     ]
    },
    {
     "name": "stdout",
     "output_type": "stream",
     "text": [
      "[I 2024-03-12 21:52:28,870] Trial 1 finished with value: 2.1467997471781108e-07 and parameters: {'no_components': 38, 'loss': 'bpr', 'learning_rate': 0.14773169202255307, 'user_alpha': 0.02219021723539999, 'item_alpha': 0.15719779404003423}. Best is trial 4 with value: 0.07878523986540956.\n"
     ]
    },
    {
     "name": "stderr",
     "output_type": "stream",
     "text": [
      "Best trial: 4. Best value: 0.0787852:  80%|████████  | 8/10 [04:46<01:13, 36.69s/it]"
     ]
    },
    {
     "name": "stdout",
     "output_type": "stream",
     "text": [
      "[I 2024-03-12 21:53:34,436] Trial 7 finished with value: 6.752012760766325e-05 and parameters: {'no_components': 22, 'loss': 'logistic', 'learning_rate': 0.13453675724016892, 'user_alpha': 0.1883213460591968, 'item_alpha': 0.02741704246911152}. Best is trial 4 with value: 0.07878523986540956.\n"
     ]
    },
    {
     "name": "stderr",
     "output_type": "stream",
     "text": [
      "Best trial: 4. Best value: 0.0787852: 100%|██████████| 10/10 [04:46<00:00, 28.64s/it]"
     ]
    },
    {
     "name": "stdout",
     "output_type": "stream",
     "text": [
      "[I 2024-03-12 21:53:34,664] Trial 5 finished with value: 0.0001226123978619921 and parameters: {'no_components': 28, 'loss': 'logistic', 'learning_rate': 0.1826603294074766, 'user_alpha': 0.05986678062431716, 'item_alpha': 0.20249366971597252}. Best is trial 4 with value: 0.07878523986540956.\n",
      "[I 2024-03-12 21:53:34,673] Trial 8 finished with value: 6.447312489218796e-05 and parameters: {'no_components': 31, 'loss': 'logistic', 'learning_rate': 0.11247531813761556, 'user_alpha': 0.21370803776756472, 'item_alpha': 0.14496522950252635}. Best is trial 4 with value: 0.07878523986540956.\n"
     ]
    },
    {
     "name": "stderr",
     "output_type": "stream",
     "text": [
      "\n"
     ]
    }
   ],
   "source": [
    "study = optuna.create_study(direction=\"maximize\")\n",
    "study.enqueue_trial(\n",
    "    {'no_components': 61, 'loss': 'warp', 'random_state': 42, 'learning_rate': 0.22958684083647646, 'user_alpha': 0.10227312715865738, 'item_alpha': 0.049429867705118334}\n",
    ")\n",
    "study.optimize(objective, n_trials=10, show_progress_bar=True, n_jobs=-1)\n",
    "logging.info(f\"Number of finished trials: {len(study.trials)}\")\n",
    "\n",
    "logging.info(\"Best trial:\")\n",
    "trial = study.best_trial\n",
    "\n",
    "logging.info(f\"  Value: {trial.value}\")\n",
    "\n",
    "logging.info(\"  Params: \")\n",
    "for key, value in trial.params.items():\n",
    "    logging.info(f\"    {key}: {value}\")"
   ]
  },
  {
   "cell_type": "code",
   "execution_count": 61,
   "metadata": {},
   "outputs": [
    {
     "data": {
      "text/plain": [
       "0.07878523986540956"
      ]
     },
     "execution_count": 61,
     "metadata": {},
     "output_type": "execute_result"
    }
   ],
   "source": [
    "trial.value"
   ]
  },
  {
   "cell_type": "code",
   "execution_count": 62,
   "metadata": {},
   "outputs": [
    {
     "data": {
      "text/plain": [
       "{'no_components': 22,\n",
       " 'loss': 'warp',\n",
       " 'learning_rate': 0.06017342156239966,\n",
       " 'user_alpha': 0.1470177880800501,\n",
       " 'item_alpha': 0.274150906686091}"
      ]
     },
     "execution_count": 62,
     "metadata": {},
     "output_type": "execute_result"
    }
   ],
   "source": [
    "trial.params"
   ]
  },
  {
   "cell_type": "code",
   "execution_count": 63,
   "metadata": {},
   "outputs": [],
   "source": [
    "params = trial.params\n",
    "params['random_state'] = RANDOM_STATE"
   ]
  },
  {
   "cell_type": "code",
   "execution_count": 64,
   "metadata": {},
   "outputs": [],
   "source": [
    "tuned_model = LightFMWrapperModel(\n",
    "    LightFM(\n",
    "        **params\n",
    "    ),\n",
    "    epochs=N_EPOCHS,\n",
    "    num_threads=NUM_THREADS,\n",
    ")"
   ]
  },
  {
   "cell_type": "code",
   "execution_count": 65,
   "metadata": {},
   "outputs": [],
   "source": [
    "tuned_model.fit(dataset)\n",
    "recos = tuned_model.recommend(\n",
    "    users=TEST_USERS,\n",
    "    dataset=dataset,\n",
    "    k=K,\n",
    "    filter_viewed=True,\n",
    ")\n",
    "metric_values = calc_metrics(metrics, recos, test, train)"
   ]
  },
  {
   "cell_type": "code",
   "execution_count": 66,
   "metadata": {},
   "outputs": [
    {
     "data": {
      "text/plain": [
       "{'MAP@1': 0.04088702956835708,\n",
       " 'MAP@2': 0.055101776969101325,\n",
       " 'MAP@3': 0.0641351516300865,\n",
       " 'MAP@4': 0.07138785197404317,\n",
       " 'MAP@5': 0.07427079859856509,\n",
       " 'MAP@6': 0.07629739205944286,\n",
       " 'MAP@7': 0.0775346985629397,\n",
       " 'MAP@8': 0.07867103678951617,\n",
       " 'MAP@9': 0.0798433563099741,\n",
       " 'MAP@10': 0.08094489383062142}"
      ]
     },
     "execution_count": 66,
     "metadata": {},
     "output_type": "execute_result"
    }
   ],
   "source": [
    "metric_values"
   ]
  },
  {
   "cell_type": "code",
   "execution_count": 67,
   "metadata": {},
   "outputs": [
    {
     "data": {
      "text/html": [
       "<div>\n",
       "<style scoped>\n",
       "    .dataframe tbody tr th:only-of-type {\n",
       "        vertical-align: middle;\n",
       "    }\n",
       "\n",
       "    .dataframe tbody tr th {\n",
       "        vertical-align: top;\n",
       "    }\n",
       "\n",
       "    .dataframe thead th {\n",
       "        text-align: right;\n",
       "    }\n",
       "</style>\n",
       "<table border=\"1\" class=\"dataframe\">\n",
       "  <thead>\n",
       "    <tr style=\"text-align: right;\">\n",
       "      <th></th>\n",
       "      <th>Metric</th>\n",
       "      <th>Value</th>\n",
       "    </tr>\n",
       "  </thead>\n",
       "  <tbody>\n",
       "    <tr>\n",
       "      <th>0</th>\n",
       "      <td>MAP@1</td>\n",
       "      <td>0.040887</td>\n",
       "    </tr>\n",
       "    <tr>\n",
       "      <th>1</th>\n",
       "      <td>MAP@2</td>\n",
       "      <td>0.055102</td>\n",
       "    </tr>\n",
       "    <tr>\n",
       "      <th>2</th>\n",
       "      <td>MAP@3</td>\n",
       "      <td>0.064135</td>\n",
       "    </tr>\n",
       "    <tr>\n",
       "      <th>3</th>\n",
       "      <td>MAP@4</td>\n",
       "      <td>0.071388</td>\n",
       "    </tr>\n",
       "    <tr>\n",
       "      <th>4</th>\n",
       "      <td>MAP@5</td>\n",
       "      <td>0.074271</td>\n",
       "    </tr>\n",
       "    <tr>\n",
       "      <th>5</th>\n",
       "      <td>MAP@6</td>\n",
       "      <td>0.076297</td>\n",
       "    </tr>\n",
       "    <tr>\n",
       "      <th>6</th>\n",
       "      <td>MAP@7</td>\n",
       "      <td>0.077535</td>\n",
       "    </tr>\n",
       "    <tr>\n",
       "      <th>7</th>\n",
       "      <td>MAP@8</td>\n",
       "      <td>0.078671</td>\n",
       "    </tr>\n",
       "    <tr>\n",
       "      <th>8</th>\n",
       "      <td>MAP@9</td>\n",
       "      <td>0.079843</td>\n",
       "    </tr>\n",
       "    <tr>\n",
       "      <th>9</th>\n",
       "      <td>MAP@10</td>\n",
       "      <td>0.080945</td>\n",
       "    </tr>\n",
       "  </tbody>\n",
       "</table>\n",
       "</div>"
      ],
      "text/plain": [
       "   Metric     Value\n",
       "0   MAP@1  0.040887\n",
       "1   MAP@2  0.055102\n",
       "2   MAP@3  0.064135\n",
       "3   MAP@4  0.071388\n",
       "4   MAP@5  0.074271\n",
       "5   MAP@6  0.076297\n",
       "6   MAP@7  0.077535\n",
       "7   MAP@8  0.078671\n",
       "8   MAP@9  0.079843\n",
       "9  MAP@10  0.080945"
      ]
     },
     "execution_count": 67,
     "metadata": {},
     "output_type": "execute_result"
    }
   ],
   "source": [
    "pd.DataFrame(metric_values.items(), columns=['Metric', 'Value'])"
   ]
  },
  {
   "cell_type": "markdown",
   "metadata": {},
   "source": [
    "# ANN"
   ]
  },
  {
   "cell_type": "markdown",
   "metadata": {},
   "source": [
    "## nmslib"
   ]
  },
  {
   "cell_type": "code",
   "execution_count": 68,
   "metadata": {},
   "outputs": [],
   "source": [
    "import nmslib"
   ]
  },
  {
   "cell_type": "code",
   "execution_count": 69,
   "metadata": {},
   "outputs": [
    {
     "data": {
      "text/plain": [
       "(15565, 24)"
      ]
     },
     "execution_count": 69,
     "metadata": {},
     "output_type": "execute_result"
    }
   ],
   "source": [
    "model = tuned_model\n",
    "user_embeddings, item_embeddings = model.get_vectors(dataset)\n",
    "item_embeddings.shape"
   ]
  },
  {
   "cell_type": "code",
   "execution_count": 70,
   "metadata": {},
   "outputs": [],
   "source": [
    "def augment_inner_product(factors):\n",
    "    normed_factors = np.linalg.norm(factors, axis=1)\n",
    "    max_norm = normed_factors.max()\n",
    "    \n",
    "    extra_dim = np.sqrt(max_norm ** 2 - normed_factors ** 2).reshape(-1, 1)\n",
    "    augmented_factors = np.append(factors, extra_dim, axis=1)\n",
    "    return max_norm, augmented_factors"
   ]
  },
  {
   "cell_type": "code",
   "execution_count": 71,
   "metadata": {},
   "outputs": [
    {
     "name": "stdout",
     "output_type": "stream",
     "text": [
      "pre shape:  (15565, 24)\n"
     ]
    },
    {
     "data": {
      "text/plain": [
       "(15565, 25)"
      ]
     },
     "execution_count": 71,
     "metadata": {},
     "output_type": "execute_result"
    }
   ],
   "source": [
    "print('pre shape: ', item_embeddings.shape)\n",
    "max_norm, augmented_item_embeddings = augment_inner_product(item_embeddings)\n",
    "augmented_item_embeddings.shape"
   ]
  },
  {
   "cell_type": "code",
   "execution_count": 72,
   "metadata": {},
   "outputs": [
    {
     "data": {
      "text/plain": [
       "(896791, 25)"
      ]
     },
     "execution_count": 72,
     "metadata": {},
     "output_type": "execute_result"
    }
   ],
   "source": [
    "extra_zero = np.zeros((user_embeddings.shape[0], 1))\n",
    "augmented_user_embeddings = np.append(user_embeddings, extra_zero, axis=1)\n",
    "augmented_user_embeddings.shape"
   ]
  },
  {
   "cell_type": "code",
   "execution_count": 73,
   "metadata": {},
   "outputs": [
    {
     "name": "stdout",
     "output_type": "stream",
     "text": [
      "Index-time parameters {'M': 48, 'indexThreadQty': 4, 'efConstruction': 100, 'post': 0}\n"
     ]
    }
   ],
   "source": [
    "M = 48\n",
    "efC = 100\n",
    "\n",
    "num_threads = 4\n",
    "index_time_params = {'M': M, 'indexThreadQty': num_threads, 'efConstruction': efC, 'post' : 0}\n",
    "print('Index-time parameters', index_time_params)"
   ]
  },
  {
   "cell_type": "code",
   "execution_count": 74,
   "metadata": {},
   "outputs": [
    {
     "name": "stdout",
     "output_type": "stream",
     "text": [
      "Index-time parameters {'M': 48, 'indexThreadQty': 4, 'efConstruction': 100}\n"
     ]
    }
   ],
   "source": [
    "K=10\n",
    "space_name='negdotprod'\n",
    "index = nmslib.init(method='hnsw', space=space_name, data_type=nmslib.DataType.DENSE_VECTOR) \n",
    "index.addDataPointBatch(augmented_item_embeddings) \n",
    "index_time_params = {'M': M, 'indexThreadQty': num_threads, 'efConstruction': efC}\n",
    "index.createIndex(index_time_params) \n",
    "print('Index-time parameters', index_time_params)"
   ]
  },
  {
   "cell_type": "code",
   "execution_count": 75,
   "metadata": {},
   "outputs": [
    {
     "name": "stdout",
     "output_type": "stream",
     "text": [
      "Setting query-time parameters {'efSearch': 100}\n"
     ]
    }
   ],
   "source": [
    "efS = 100\n",
    "query_time_params = {'efSearch': efS}\n",
    "print('Setting query-time parameters', query_time_params)\n",
    "index.setQueryTimeParams(query_time_params)"
   ]
  },
  {
   "cell_type": "code",
   "execution_count": 76,
   "metadata": {},
   "outputs": [
    {
     "data": {
      "text/plain": [
       "(896791, 25)"
      ]
     },
     "execution_count": 76,
     "metadata": {},
     "output_type": "execute_result"
    }
   ],
   "source": [
    "augmented_user_embeddings.shape"
   ]
  },
  {
   "cell_type": "code",
   "execution_count": 77,
   "metadata": {},
   "outputs": [],
   "source": [
    "query_matrix = augmented_user_embeddings[:1000, :]"
   ]
  },
  {
   "cell_type": "code",
   "execution_count": 78,
   "metadata": {},
   "outputs": [
    {
     "data": {
      "text/plain": [
       "(1000, 25)"
      ]
     },
     "execution_count": 78,
     "metadata": {},
     "output_type": "execute_result"
    }
   ],
   "source": [
    "query_matrix.shape"
   ]
  },
  {
   "cell_type": "code",
   "execution_count": 79,
   "metadata": {},
   "outputs": [],
   "source": [
    "user_id = 10973\n",
    "one_user_matrix = augmented_user_embeddings[user_id, :]\n"
   ]
  },
  {
   "cell_type": "code",
   "execution_count": 80,
   "metadata": {},
   "outputs": [],
   "source": [
    "nbrs = index.knnQueryBatch([one_user_matrix], k = K, num_threads = num_threads)"
   ]
  },
  {
   "cell_type": "code",
   "execution_count": 81,
   "metadata": {},
   "outputs": [
    {
     "data": {
      "text/plain": [
       "[(array([ 44,  23,  15,  30, 162,  78, 350, 113, 132,  86], dtype=int32),\n",
       "  array([0.00651326, 0.0065137 , 0.00651461, 0.00651531, 0.00651575,\n",
       "         0.00651682, 0.00651693, 0.0065172 , 0.00651746, 0.00651751],\n",
       "        dtype=float32))]"
      ]
     },
     "execution_count": 81,
     "metadata": {},
     "output_type": "execute_result"
    }
   ],
   "source": [
    "nbrs"
   ]
  },
  {
   "cell_type": "markdown",
   "metadata": {},
   "source": [
    "## faiss"
   ]
  },
  {
   "cell_type": "code",
   "execution_count": 82,
   "metadata": {},
   "outputs": [],
   "source": [
    "import faiss\n",
    "import numpy as np\n",
    "\n",
    "efC = 200  # Размер приоритетной очереди для \"обучения\", \"создания пространства\"\n",
    "efS = 200  # Размер приоритетной очереди для поиска ближайших элементов\n",
    "M = 48\n",
    "\n",
    "num_threads = 4\n",
    "\n",
    "# Создаем FAISS index типа HNSW на 48 разбиений\n",
    "index = faiss.index_factory(augmented_user_embeddings.shape[1], f\"HNSW{M}\", faiss.METRIC_L2)\n",
    "\n",
    "# Добавляем эмбединги объектов фильмов\n",
    "index.add(augmented_item_embeddings)\n",
    "\n",
    "# Устанавливаем параметры efC и efS\n",
    "index.hnsw.efConstruction = efC\n",
    "index.hnsw.efSearch = efS"
   ]
  },
  {
   "cell_type": "code",
   "execution_count": 83,
   "metadata": {},
   "outputs": [],
   "source": [
    "D, I = index.search(np.array([one_user_matrix]), K)\n"
   ]
  },
  {
   "cell_type": "code",
   "execution_count": 84,
   "metadata": {},
   "outputs": [
    {
     "name": "stdout",
     "output_type": "stream",
     "text": [
      "Indices of Nearest Neighbors: [[ 44  23  15  30 162  78 350 113 132  86]]\n",
      "Distances to Nearest Neighbors: [[2.0130692 2.01307   2.0130718 2.0130732 2.0130742 2.0130763 2.0130763\n",
      "  2.013077  2.0130775 2.0130777]]\n"
     ]
    }
   ],
   "source": [
    "print(\"Indices of Nearest Neighbors:\", I)\n",
    "print(\"Distances to Nearest Neighbors:\", D)"
   ]
  },
  {
   "cell_type": "code",
   "execution_count": 85,
   "metadata": {},
   "outputs": [],
   "source": [
    "import dill\n",
    "\n",
    "path_model = '../models/model_lightfm.dill'\n",
    "with open(path_model, 'wb') as f:\n",
    "    dill.dump(model, f)"
   ]
  }
 ],
 "metadata": {
  "kernelspec": {
   "display_name": ".venv",
   "language": "python",
   "name": "python3"
  },
  "language_info": {
   "codemirror_mode": {
    "name": "ipython",
    "version": 3
   },
   "file_extension": ".py",
   "mimetype": "text/x-python",
   "name": "python",
   "nbconvert_exporter": "python",
   "pygments_lexer": "ipython3",
   "version": "3.10.12"
  }
 },
 "nbformat": 4,
 "nbformat_minor": 2
}
